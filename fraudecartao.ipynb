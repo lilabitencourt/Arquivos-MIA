{
 "cells": [
  {
   "cell_type": "code",
   "execution_count": 1,
   "metadata": {},
   "outputs": [],
   "source": [
    "import numpy as np #biblioteca utilizada para trabalhar com vetores\n",
    "import pandas as pd #biblioteca para trabalhar com dataframes (formato de planilhas excel)\n",
    "from sklearn.model_selection import train_test_split  #biblioteca para separar nossa base de dados deixando uma parte para treino do modelo e outra para teste\n"
   ]
  },
  {
   "cell_type": "code",
   "execution_count": 2,
   "metadata": {},
   "outputs": [],
   "source": [
    "#biblioteca para realizar a construção do algoritmo supervisionado Random Forest\n",
    "from sklearn.ensemble import RandomForestClassifier"
   ]
  },
  {
   "cell_type": "markdown",
   "metadata": {},
   "source": [
    "### Problema: Detecção de transações fraudulentas"
   ]
  },
  {
   "cell_type": "code",
   "execution_count": 3,
   "metadata": {},
   "outputs": [],
   "source": [
    "# abrir o arquivo csv que contém os dados a serem utilizados durante a prática - fonte: Kaggle\n",
    "df_creditcard = pd.read_csv('creditcard.csv')"
   ]
  },
  {
   "cell_type": "code",
   "execution_count": 4,
   "metadata": {},
   "outputs": [
    {
     "data": {
      "text/html": [
       "<div>\n",
       "<style scoped>\n",
       "    .dataframe tbody tr th:only-of-type {\n",
       "        vertical-align: middle;\n",
       "    }\n",
       "\n",
       "    .dataframe tbody tr th {\n",
       "        vertical-align: top;\n",
       "    }\n",
       "\n",
       "    .dataframe thead th {\n",
       "        text-align: right;\n",
       "    }\n",
       "</style>\n",
       "<table border=\"1\" class=\"dataframe\">\n",
       "  <thead>\n",
       "    <tr style=\"text-align: right;\">\n",
       "      <th></th>\n",
       "      <th>Time</th>\n",
       "      <th>V1</th>\n",
       "      <th>V2</th>\n",
       "      <th>V3</th>\n",
       "      <th>V4</th>\n",
       "      <th>V5</th>\n",
       "      <th>V6</th>\n",
       "      <th>V7</th>\n",
       "      <th>V8</th>\n",
       "      <th>V9</th>\n",
       "      <th>...</th>\n",
       "      <th>V21</th>\n",
       "      <th>V22</th>\n",
       "      <th>V23</th>\n",
       "      <th>V24</th>\n",
       "      <th>V25</th>\n",
       "      <th>V26</th>\n",
       "      <th>V27</th>\n",
       "      <th>V28</th>\n",
       "      <th>Amount</th>\n",
       "      <th>Class</th>\n",
       "    </tr>\n",
       "  </thead>\n",
       "  <tbody>\n",
       "    <tr>\n",
       "      <td>0</td>\n",
       "      <td>0.0</td>\n",
       "      <td>-1.359807</td>\n",
       "      <td>-0.072781</td>\n",
       "      <td>2.536347</td>\n",
       "      <td>1.378155</td>\n",
       "      <td>-0.338321</td>\n",
       "      <td>0.462388</td>\n",
       "      <td>0.239599</td>\n",
       "      <td>0.098698</td>\n",
       "      <td>0.363787</td>\n",
       "      <td>...</td>\n",
       "      <td>-0.018307</td>\n",
       "      <td>0.277838</td>\n",
       "      <td>-0.110474</td>\n",
       "      <td>0.066928</td>\n",
       "      <td>0.128539</td>\n",
       "      <td>-0.189115</td>\n",
       "      <td>0.133558</td>\n",
       "      <td>-0.021053</td>\n",
       "      <td>149.62</td>\n",
       "      <td>0</td>\n",
       "    </tr>\n",
       "    <tr>\n",
       "      <td>1</td>\n",
       "      <td>0.0</td>\n",
       "      <td>1.191857</td>\n",
       "      <td>0.266151</td>\n",
       "      <td>0.166480</td>\n",
       "      <td>0.448154</td>\n",
       "      <td>0.060018</td>\n",
       "      <td>-0.082361</td>\n",
       "      <td>-0.078803</td>\n",
       "      <td>0.085102</td>\n",
       "      <td>-0.255425</td>\n",
       "      <td>...</td>\n",
       "      <td>-0.225775</td>\n",
       "      <td>-0.638672</td>\n",
       "      <td>0.101288</td>\n",
       "      <td>-0.339846</td>\n",
       "      <td>0.167170</td>\n",
       "      <td>0.125895</td>\n",
       "      <td>-0.008983</td>\n",
       "      <td>0.014724</td>\n",
       "      <td>2.69</td>\n",
       "      <td>0</td>\n",
       "    </tr>\n",
       "    <tr>\n",
       "      <td>2</td>\n",
       "      <td>1.0</td>\n",
       "      <td>-1.358354</td>\n",
       "      <td>-1.340163</td>\n",
       "      <td>1.773209</td>\n",
       "      <td>0.379780</td>\n",
       "      <td>-0.503198</td>\n",
       "      <td>1.800499</td>\n",
       "      <td>0.791461</td>\n",
       "      <td>0.247676</td>\n",
       "      <td>-1.514654</td>\n",
       "      <td>...</td>\n",
       "      <td>0.247998</td>\n",
       "      <td>0.771679</td>\n",
       "      <td>0.909412</td>\n",
       "      <td>-0.689281</td>\n",
       "      <td>-0.327642</td>\n",
       "      <td>-0.139097</td>\n",
       "      <td>-0.055353</td>\n",
       "      <td>-0.059752</td>\n",
       "      <td>378.66</td>\n",
       "      <td>0</td>\n",
       "    </tr>\n",
       "    <tr>\n",
       "      <td>3</td>\n",
       "      <td>1.0</td>\n",
       "      <td>-0.966272</td>\n",
       "      <td>-0.185226</td>\n",
       "      <td>1.792993</td>\n",
       "      <td>-0.863291</td>\n",
       "      <td>-0.010309</td>\n",
       "      <td>1.247203</td>\n",
       "      <td>0.237609</td>\n",
       "      <td>0.377436</td>\n",
       "      <td>-1.387024</td>\n",
       "      <td>...</td>\n",
       "      <td>-0.108300</td>\n",
       "      <td>0.005274</td>\n",
       "      <td>-0.190321</td>\n",
       "      <td>-1.175575</td>\n",
       "      <td>0.647376</td>\n",
       "      <td>-0.221929</td>\n",
       "      <td>0.062723</td>\n",
       "      <td>0.061458</td>\n",
       "      <td>123.50</td>\n",
       "      <td>0</td>\n",
       "    </tr>\n",
       "    <tr>\n",
       "      <td>4</td>\n",
       "      <td>2.0</td>\n",
       "      <td>-1.158233</td>\n",
       "      <td>0.877737</td>\n",
       "      <td>1.548718</td>\n",
       "      <td>0.403034</td>\n",
       "      <td>-0.407193</td>\n",
       "      <td>0.095921</td>\n",
       "      <td>0.592941</td>\n",
       "      <td>-0.270533</td>\n",
       "      <td>0.817739</td>\n",
       "      <td>...</td>\n",
       "      <td>-0.009431</td>\n",
       "      <td>0.798278</td>\n",
       "      <td>-0.137458</td>\n",
       "      <td>0.141267</td>\n",
       "      <td>-0.206010</td>\n",
       "      <td>0.502292</td>\n",
       "      <td>0.219422</td>\n",
       "      <td>0.215153</td>\n",
       "      <td>69.99</td>\n",
       "      <td>0</td>\n",
       "    </tr>\n",
       "  </tbody>\n",
       "</table>\n",
       "<p>5 rows × 31 columns</p>\n",
       "</div>"
      ],
      "text/plain": [
       "   Time        V1        V2        V3        V4        V5        V6        V7  \\\n",
       "0   0.0 -1.359807 -0.072781  2.536347  1.378155 -0.338321  0.462388  0.239599   \n",
       "1   0.0  1.191857  0.266151  0.166480  0.448154  0.060018 -0.082361 -0.078803   \n",
       "2   1.0 -1.358354 -1.340163  1.773209  0.379780 -0.503198  1.800499  0.791461   \n",
       "3   1.0 -0.966272 -0.185226  1.792993 -0.863291 -0.010309  1.247203  0.237609   \n",
       "4   2.0 -1.158233  0.877737  1.548718  0.403034 -0.407193  0.095921  0.592941   \n",
       "\n",
       "         V8        V9  ...       V21       V22       V23       V24       V25  \\\n",
       "0  0.098698  0.363787  ... -0.018307  0.277838 -0.110474  0.066928  0.128539   \n",
       "1  0.085102 -0.255425  ... -0.225775 -0.638672  0.101288 -0.339846  0.167170   \n",
       "2  0.247676 -1.514654  ...  0.247998  0.771679  0.909412 -0.689281 -0.327642   \n",
       "3  0.377436 -1.387024  ... -0.108300  0.005274 -0.190321 -1.175575  0.647376   \n",
       "4 -0.270533  0.817739  ... -0.009431  0.798278 -0.137458  0.141267 -0.206010   \n",
       "\n",
       "        V26       V27       V28  Amount  Class  \n",
       "0 -0.189115  0.133558 -0.021053  149.62      0  \n",
       "1  0.125895 -0.008983  0.014724    2.69      0  \n",
       "2 -0.139097 -0.055353 -0.059752  378.66      0  \n",
       "3 -0.221929  0.062723  0.061458  123.50      0  \n",
       "4  0.502292  0.219422  0.215153   69.99      0  \n",
       "\n",
       "[5 rows x 31 columns]"
      ]
     },
     "execution_count": 4,
     "metadata": {},
     "output_type": "execute_result"
    }
   ],
   "source": [
    "#visualizando as 5 primeiras linhas do banco de dados\n",
    "df_creditcard.head()"
   ]
  },
  {
   "cell_type": "markdown",
   "metadata": {},
   "source": [
    "##### obs.: Exibindo as colunas do dateset. As colunas foram anonimizadas através do PCA para preservar as informações iniciais. Os únicos dados que estão de forma ‘original’ é a coluna Time (Tempo entre a primeira transação do dateset e próxima), Amout (Valor da transação) e Class (Flag para definir o que é fraude)"
   ]
  },
  {
   "cell_type": "markdown",
   "metadata": {},
   "source": [
    "#### Quantos valores nulos (NAN) existem no dataset?\n"
   ]
  },
  {
   "cell_type": "code",
   "execution_count": 5,
   "metadata": {},
   "outputs": [
    {
     "data": {
      "text/plain": [
       "Time      0\n",
       "V1        0\n",
       "V2        0\n",
       "V3        0\n",
       "V4        0\n",
       "V5        0\n",
       "V6        0\n",
       "V7        0\n",
       "V8        0\n",
       "V9        0\n",
       "V10       0\n",
       "V11       0\n",
       "V12       0\n",
       "V13       0\n",
       "V14       0\n",
       "V15       0\n",
       "V16       0\n",
       "V17       0\n",
       "V18       0\n",
       "V19       0\n",
       "V20       0\n",
       "V21       0\n",
       "V22       0\n",
       "V23       0\n",
       "V24       0\n",
       "V25       0\n",
       "V26       0\n",
       "V27       0\n",
       "V28       0\n",
       "Amount    0\n",
       "Class     0\n",
       "dtype: int64"
      ]
     },
     "execution_count": 5,
     "metadata": {},
     "output_type": "execute_result"
    }
   ],
   "source": [
    "df_creditcard.isnull().sum() #função utilizada para contar a quantidade de valores nulos existente em cada uma das colunas (características) do dataset"
   ]
  },
  {
   "cell_type": "markdown",
   "metadata": {},
   "source": [
    "#### Quantas colunas (características) e linhas (instâncias) existem no dataset?"
   ]
  },
  {
   "cell_type": "code",
   "execution_count": 6,
   "metadata": {},
   "outputs": [
    {
     "data": {
      "text/plain": [
       "(284807, 31)"
      ]
     },
     "execution_count": 6,
     "metadata": {},
     "output_type": "execute_result"
    }
   ],
   "source": [
    "df_creditcard.shape"
   ]
  },
  {
   "cell_type": "markdown",
   "metadata": {},
   "source": [
    "#### Quantas fraude e não fraudes temos na nossa base de treino?"
   ]
  },
  {
   "cell_type": "code",
   "execution_count": 7,
   "metadata": {},
   "outputs": [
    {
     "name": "stdout",
     "output_type": "stream",
     "text": [
      "Quantidade de transações não fraudulentas:  284315\n",
      "Quantidade de transações fraudulentas:  492\n"
     ]
    }
   ],
   "source": [
    "print('Quantidade de transações não fraudulentas: ', df_creditcard['Class'].value_counts().values[0])\n",
    "print('Quantidade de transações fraudulentas: ', df_creditcard['Class'].value_counts().values[1])"
   ]
  },
  {
   "cell_type": "markdown",
   "metadata": {},
   "source": [
    "#### Separando as features (características) da variável resposta(rótulo/classe)"
   ]
  },
  {
   "cell_type": "code",
   "execution_count": 8,
   "metadata": {},
   "outputs": [],
   "source": [
    "X = df_creditcard.iloc[:, :-1] \n",
    "#iloc é usado quando queremos selecionar dados de linhas e colunas pelo seu valor numérico de índice.\n",
    "# pega todas as linhas e todas as colunas - exceto a última coluna\n",
    "#posições do final começam com -1\n",
    "\n",
    "y = df_creditcard['Class']"
   ]
  },
  {
   "cell_type": "markdown",
   "metadata": {},
   "source": [
    "#### Separando dados para treino e dados para teste"
   ]
  },
  {
   "cell_type": "code",
   "execution_count": 9,
   "metadata": {},
   "outputs": [],
   "source": [
    "X_train, X_test, y_train, y_test = train_test_split(X, y, test_size=0.30, random_state=0) \n"
   ]
  },
  {
   "cell_type": "code",
   "execution_count": 10,
   "metadata": {},
   "outputs": [
    {
     "data": {
      "text/plain": [
       "((199364, 30), (85443, 30))"
      ]
     },
     "execution_count": 10,
     "metadata": {},
     "output_type": "execute_result"
    }
   ],
   "source": [
    "X_train.shape, X_test.shape"
   ]
  },
  {
   "cell_type": "code",
   "execution_count": 11,
   "metadata": {},
   "outputs": [
    {
     "data": {
      "text/html": [
       "<div>\n",
       "<style scoped>\n",
       "    .dataframe tbody tr th:only-of-type {\n",
       "        vertical-align: middle;\n",
       "    }\n",
       "\n",
       "    .dataframe tbody tr th {\n",
       "        vertical-align: top;\n",
       "    }\n",
       "\n",
       "    .dataframe thead th {\n",
       "        text-align: right;\n",
       "    }\n",
       "</style>\n",
       "<table border=\"1\" class=\"dataframe\">\n",
       "  <thead>\n",
       "    <tr style=\"text-align: right;\">\n",
       "      <th></th>\n",
       "      <th>Time</th>\n",
       "      <th>V1</th>\n",
       "      <th>V2</th>\n",
       "      <th>V3</th>\n",
       "      <th>V4</th>\n",
       "      <th>V5</th>\n",
       "      <th>V6</th>\n",
       "      <th>V7</th>\n",
       "      <th>V8</th>\n",
       "      <th>V9</th>\n",
       "      <th>...</th>\n",
       "      <th>V20</th>\n",
       "      <th>V21</th>\n",
       "      <th>V22</th>\n",
       "      <th>V23</th>\n",
       "      <th>V24</th>\n",
       "      <th>V25</th>\n",
       "      <th>V26</th>\n",
       "      <th>V27</th>\n",
       "      <th>V28</th>\n",
       "      <th>Amount</th>\n",
       "    </tr>\n",
       "  </thead>\n",
       "  <tbody>\n",
       "    <tr>\n",
       "      <td>183484</td>\n",
       "      <td>125821.0</td>\n",
       "      <td>-0.323334</td>\n",
       "      <td>1.057455</td>\n",
       "      <td>-0.048341</td>\n",
       "      <td>-0.607204</td>\n",
       "      <td>1.259821</td>\n",
       "      <td>-0.091761</td>\n",
       "      <td>1.159101</td>\n",
       "      <td>-0.124335</td>\n",
       "      <td>-0.174640</td>\n",
       "      <td>...</td>\n",
       "      <td>0.186409</td>\n",
       "      <td>-0.207098</td>\n",
       "      <td>-0.433890</td>\n",
       "      <td>-0.261613</td>\n",
       "      <td>-0.046651</td>\n",
       "      <td>0.211512</td>\n",
       "      <td>0.008297</td>\n",
       "      <td>0.108494</td>\n",
       "      <td>0.161139</td>\n",
       "      <td>40.00</td>\n",
       "    </tr>\n",
       "    <tr>\n",
       "      <td>255448</td>\n",
       "      <td>157235.0</td>\n",
       "      <td>-0.349718</td>\n",
       "      <td>0.932619</td>\n",
       "      <td>0.142992</td>\n",
       "      <td>-0.657071</td>\n",
       "      <td>1.169784</td>\n",
       "      <td>-0.733369</td>\n",
       "      <td>1.009985</td>\n",
       "      <td>-0.071069</td>\n",
       "      <td>-0.302083</td>\n",
       "      <td>...</td>\n",
       "      <td>-0.096502</td>\n",
       "      <td>-0.271537</td>\n",
       "      <td>-0.833209</td>\n",
       "      <td>-0.030360</td>\n",
       "      <td>0.490035</td>\n",
       "      <td>-0.404816</td>\n",
       "      <td>0.134350</td>\n",
       "      <td>0.076830</td>\n",
       "      <td>0.175562</td>\n",
       "      <td>1.98</td>\n",
       "    </tr>\n",
       "    <tr>\n",
       "      <td>244749</td>\n",
       "      <td>152471.0</td>\n",
       "      <td>-1.614711</td>\n",
       "      <td>-2.406570</td>\n",
       "      <td>0.326194</td>\n",
       "      <td>0.665520</td>\n",
       "      <td>2.369268</td>\n",
       "      <td>-1.775367</td>\n",
       "      <td>-1.139049</td>\n",
       "      <td>0.329904</td>\n",
       "      <td>0.903813</td>\n",
       "      <td>...</td>\n",
       "      <td>0.419835</td>\n",
       "      <td>0.701399</td>\n",
       "      <td>1.134489</td>\n",
       "      <td>0.965054</td>\n",
       "      <td>0.640981</td>\n",
       "      <td>-1.801998</td>\n",
       "      <td>-1.041114</td>\n",
       "      <td>0.286285</td>\n",
       "      <td>0.437322</td>\n",
       "      <td>96.00</td>\n",
       "    </tr>\n",
       "    <tr>\n",
       "      <td>63919</td>\n",
       "      <td>50927.0</td>\n",
       "      <td>-2.477184</td>\n",
       "      <td>0.860613</td>\n",
       "      <td>1.441850</td>\n",
       "      <td>1.051019</td>\n",
       "      <td>-1.856621</td>\n",
       "      <td>2.078384</td>\n",
       "      <td>0.510828</td>\n",
       "      <td>-0.243399</td>\n",
       "      <td>-0.260691</td>\n",
       "      <td>...</td>\n",
       "      <td>-0.987790</td>\n",
       "      <td>0.810408</td>\n",
       "      <td>0.692245</td>\n",
       "      <td>0.150121</td>\n",
       "      <td>-0.260777</td>\n",
       "      <td>0.005183</td>\n",
       "      <td>-0.177847</td>\n",
       "      <td>-0.510060</td>\n",
       "      <td>-0.660533</td>\n",
       "      <td>308.00</td>\n",
       "    </tr>\n",
       "    <tr>\n",
       "      <td>11475</td>\n",
       "      <td>19899.0</td>\n",
       "      <td>1.338831</td>\n",
       "      <td>-0.547264</td>\n",
       "      <td>0.737389</td>\n",
       "      <td>-0.212383</td>\n",
       "      <td>-1.110039</td>\n",
       "      <td>-0.525744</td>\n",
       "      <td>-0.801403</td>\n",
       "      <td>-0.063672</td>\n",
       "      <td>0.997276</td>\n",
       "      <td>...</td>\n",
       "      <td>-0.126871</td>\n",
       "      <td>-0.139436</td>\n",
       "      <td>-0.074719</td>\n",
       "      <td>0.067055</td>\n",
       "      <td>0.333122</td>\n",
       "      <td>0.379087</td>\n",
       "      <td>-0.268706</td>\n",
       "      <td>-0.002769</td>\n",
       "      <td>0.003272</td>\n",
       "      <td>5.00</td>\n",
       "    </tr>\n",
       "  </tbody>\n",
       "</table>\n",
       "<p>5 rows × 30 columns</p>\n",
       "</div>"
      ],
      "text/plain": [
       "            Time        V1        V2        V3        V4        V5        V6  \\\n",
       "183484  125821.0 -0.323334  1.057455 -0.048341 -0.607204  1.259821 -0.091761   \n",
       "255448  157235.0 -0.349718  0.932619  0.142992 -0.657071  1.169784 -0.733369   \n",
       "244749  152471.0 -1.614711 -2.406570  0.326194  0.665520  2.369268 -1.775367   \n",
       "63919    50927.0 -2.477184  0.860613  1.441850  1.051019 -1.856621  2.078384   \n",
       "11475    19899.0  1.338831 -0.547264  0.737389 -0.212383 -1.110039 -0.525744   \n",
       "\n",
       "              V7        V8        V9  ...       V20       V21       V22  \\\n",
       "183484  1.159101 -0.124335 -0.174640  ...  0.186409 -0.207098 -0.433890   \n",
       "255448  1.009985 -0.071069 -0.302083  ... -0.096502 -0.271537 -0.833209   \n",
       "244749 -1.139049  0.329904  0.903813  ...  0.419835  0.701399  1.134489   \n",
       "63919   0.510828 -0.243399 -0.260691  ... -0.987790  0.810408  0.692245   \n",
       "11475  -0.801403 -0.063672  0.997276  ... -0.126871 -0.139436 -0.074719   \n",
       "\n",
       "             V23       V24       V25       V26       V27       V28  Amount  \n",
       "183484 -0.261613 -0.046651  0.211512  0.008297  0.108494  0.161139   40.00  \n",
       "255448 -0.030360  0.490035 -0.404816  0.134350  0.076830  0.175562    1.98  \n",
       "244749  0.965054  0.640981 -1.801998 -1.041114  0.286285  0.437322   96.00  \n",
       "63919   0.150121 -0.260777  0.005183 -0.177847 -0.510060 -0.660533  308.00  \n",
       "11475   0.067055  0.333122  0.379087 -0.268706 -0.002769  0.003272    5.00  \n",
       "\n",
       "[5 rows x 30 columns]"
      ]
     },
     "execution_count": 11,
     "metadata": {},
     "output_type": "execute_result"
    }
   ],
   "source": [
    "X_test.head()"
   ]
  },
  {
   "cell_type": "markdown",
   "metadata": {},
   "source": [
    "#### Treinando o modelo - lembre da base que separamos para treino"
   ]
  },
  {
   "cell_type": "code",
   "execution_count": 12,
   "metadata": {},
   "outputs": [
    {
     "data": {
      "text/plain": [
       "RandomForestClassifier(bootstrap=True, ccp_alpha=0.0, class_weight=None,\n",
       "                       criterion='gini', max_depth=None, max_features='auto',\n",
       "                       max_leaf_nodes=None, max_samples=None,\n",
       "                       min_impurity_decrease=0.0, min_impurity_split=None,\n",
       "                       min_samples_leaf=1, min_samples_split=2,\n",
       "                       min_weight_fraction_leaf=0.0, n_estimators=100,\n",
       "                       n_jobs=None, oob_score=False, random_state=None,\n",
       "                       verbose=0, warm_start=False)"
      ]
     },
     "execution_count": 12,
     "metadata": {},
     "output_type": "execute_result"
    }
   ],
   "source": [
    "model = RandomForestClassifier()#instanciar o objeto do classificador RandomForest\n",
    "model.fit(X_train, y_train)#treinando o modelo\n"
   ]
  },
  {
   "cell_type": "markdown",
   "metadata": {},
   "source": [
    "#### Testando o modelo - lembre da base que separamos para teste"
   ]
  },
  {
   "cell_type": "code",
   "execution_count": 13,
   "metadata": {},
   "outputs": [],
   "source": [
    "y_pred = model.predict(X_test)"
   ]
  },
  {
   "cell_type": "markdown",
   "metadata": {},
   "source": [
    "#### Nossa base de teste já recebeu as classificações do modelo, vejamos:"
   ]
  },
  {
   "cell_type": "code",
   "execution_count": 14,
   "metadata": {},
   "outputs": [
    {
     "data": {
      "text/plain": [
       "array([0, 0, 0, ..., 0, 0, 0], dtype=int64)"
      ]
     },
     "execution_count": 14,
     "metadata": {},
     "output_type": "execute_result"
    }
   ],
   "source": [
    "y_pred"
   ]
  },
  {
   "cell_type": "markdown",
   "metadata": {},
   "source": [
    "#### Vamos juntar esses dados!"
   ]
  },
  {
   "cell_type": "code",
   "execution_count": 17,
   "metadata": {},
   "outputs": [],
   "source": [
    "X_test_com_classificação = X_test #Criando um dataset que irá conter os dados da base de teste a também a classificação dada pelo modelo"
   ]
  },
  {
   "cell_type": "code",
   "execution_count": 18,
   "metadata": {},
   "outputs": [
    {
     "name": "stderr",
     "output_type": "stream",
     "text": [
      "C:\\Users\\aline.bitencourt\\AppData\\Local\\Continuum\\anaconda3\\lib\\site-packages\\ipykernel_launcher.py:1: SettingWithCopyWarning: \n",
      "A value is trying to be set on a copy of a slice from a DataFrame.\n",
      "Try using .loc[row_indexer,col_indexer] = value instead\n",
      "\n",
      "See the caveats in the documentation: http://pandas.pydata.org/pandas-docs/stable/user_guide/indexing.html#returning-a-view-versus-a-copy\n",
      "  \"\"\"Entry point for launching an IPython kernel.\n"
     ]
    }
   ],
   "source": [
    " X_test_com_classificação['classificação'] = y_pred # só acrescentando uma coluna que irá conter as classificações dadas pelo modelo"
   ]
  },
  {
   "cell_type": "markdown",
   "metadata": {},
   "source": [
    "#### Dê uma olhadinha na última coluna que acabamos de acrescentar!"
   ]
  },
  {
   "cell_type": "code",
   "execution_count": 20,
   "metadata": {},
   "outputs": [
    {
     "data": {
      "text/html": [
       "<div>\n",
       "<style scoped>\n",
       "    .dataframe tbody tr th:only-of-type {\n",
       "        vertical-align: middle;\n",
       "    }\n",
       "\n",
       "    .dataframe tbody tr th {\n",
       "        vertical-align: top;\n",
       "    }\n",
       "\n",
       "    .dataframe thead th {\n",
       "        text-align: right;\n",
       "    }\n",
       "</style>\n",
       "<table border=\"1\" class=\"dataframe\">\n",
       "  <thead>\n",
       "    <tr style=\"text-align: right;\">\n",
       "      <th></th>\n",
       "      <th>Time</th>\n",
       "      <th>V1</th>\n",
       "      <th>V2</th>\n",
       "      <th>V3</th>\n",
       "      <th>V4</th>\n",
       "      <th>V5</th>\n",
       "      <th>V6</th>\n",
       "      <th>V7</th>\n",
       "      <th>V8</th>\n",
       "      <th>V9</th>\n",
       "      <th>...</th>\n",
       "      <th>V21</th>\n",
       "      <th>V22</th>\n",
       "      <th>V23</th>\n",
       "      <th>V24</th>\n",
       "      <th>V25</th>\n",
       "      <th>V26</th>\n",
       "      <th>V27</th>\n",
       "      <th>V28</th>\n",
       "      <th>Amount</th>\n",
       "      <th>classificação</th>\n",
       "    </tr>\n",
       "  </thead>\n",
       "  <tbody>\n",
       "    <tr>\n",
       "      <td>183484</td>\n",
       "      <td>125821.0</td>\n",
       "      <td>-0.323334</td>\n",
       "      <td>1.057455</td>\n",
       "      <td>-0.048341</td>\n",
       "      <td>-0.607204</td>\n",
       "      <td>1.259821</td>\n",
       "      <td>-0.091761</td>\n",
       "      <td>1.159101</td>\n",
       "      <td>-0.124335</td>\n",
       "      <td>-0.174640</td>\n",
       "      <td>...</td>\n",
       "      <td>-0.207098</td>\n",
       "      <td>-0.433890</td>\n",
       "      <td>-0.261613</td>\n",
       "      <td>-0.046651</td>\n",
       "      <td>0.211512</td>\n",
       "      <td>0.008297</td>\n",
       "      <td>0.108494</td>\n",
       "      <td>0.161139</td>\n",
       "      <td>40.00</td>\n",
       "      <td>0</td>\n",
       "    </tr>\n",
       "    <tr>\n",
       "      <td>255448</td>\n",
       "      <td>157235.0</td>\n",
       "      <td>-0.349718</td>\n",
       "      <td>0.932619</td>\n",
       "      <td>0.142992</td>\n",
       "      <td>-0.657071</td>\n",
       "      <td>1.169784</td>\n",
       "      <td>-0.733369</td>\n",
       "      <td>1.009985</td>\n",
       "      <td>-0.071069</td>\n",
       "      <td>-0.302083</td>\n",
       "      <td>...</td>\n",
       "      <td>-0.271537</td>\n",
       "      <td>-0.833209</td>\n",
       "      <td>-0.030360</td>\n",
       "      <td>0.490035</td>\n",
       "      <td>-0.404816</td>\n",
       "      <td>0.134350</td>\n",
       "      <td>0.076830</td>\n",
       "      <td>0.175562</td>\n",
       "      <td>1.98</td>\n",
       "      <td>0</td>\n",
       "    </tr>\n",
       "    <tr>\n",
       "      <td>244749</td>\n",
       "      <td>152471.0</td>\n",
       "      <td>-1.614711</td>\n",
       "      <td>-2.406570</td>\n",
       "      <td>0.326194</td>\n",
       "      <td>0.665520</td>\n",
       "      <td>2.369268</td>\n",
       "      <td>-1.775367</td>\n",
       "      <td>-1.139049</td>\n",
       "      <td>0.329904</td>\n",
       "      <td>0.903813</td>\n",
       "      <td>...</td>\n",
       "      <td>0.701399</td>\n",
       "      <td>1.134489</td>\n",
       "      <td>0.965054</td>\n",
       "      <td>0.640981</td>\n",
       "      <td>-1.801998</td>\n",
       "      <td>-1.041114</td>\n",
       "      <td>0.286285</td>\n",
       "      <td>0.437322</td>\n",
       "      <td>96.00</td>\n",
       "      <td>0</td>\n",
       "    </tr>\n",
       "    <tr>\n",
       "      <td>63919</td>\n",
       "      <td>50927.0</td>\n",
       "      <td>-2.477184</td>\n",
       "      <td>0.860613</td>\n",
       "      <td>1.441850</td>\n",
       "      <td>1.051019</td>\n",
       "      <td>-1.856621</td>\n",
       "      <td>2.078384</td>\n",
       "      <td>0.510828</td>\n",
       "      <td>-0.243399</td>\n",
       "      <td>-0.260691</td>\n",
       "      <td>...</td>\n",
       "      <td>0.810408</td>\n",
       "      <td>0.692245</td>\n",
       "      <td>0.150121</td>\n",
       "      <td>-0.260777</td>\n",
       "      <td>0.005183</td>\n",
       "      <td>-0.177847</td>\n",
       "      <td>-0.510060</td>\n",
       "      <td>-0.660533</td>\n",
       "      <td>308.00</td>\n",
       "      <td>0</td>\n",
       "    </tr>\n",
       "    <tr>\n",
       "      <td>11475</td>\n",
       "      <td>19899.0</td>\n",
       "      <td>1.338831</td>\n",
       "      <td>-0.547264</td>\n",
       "      <td>0.737389</td>\n",
       "      <td>-0.212383</td>\n",
       "      <td>-1.110039</td>\n",
       "      <td>-0.525744</td>\n",
       "      <td>-0.801403</td>\n",
       "      <td>-0.063672</td>\n",
       "      <td>0.997276</td>\n",
       "      <td>...</td>\n",
       "      <td>-0.139436</td>\n",
       "      <td>-0.074719</td>\n",
       "      <td>0.067055</td>\n",
       "      <td>0.333122</td>\n",
       "      <td>0.379087</td>\n",
       "      <td>-0.268706</td>\n",
       "      <td>-0.002769</td>\n",
       "      <td>0.003272</td>\n",
       "      <td>5.00</td>\n",
       "      <td>0</td>\n",
       "    </tr>\n",
       "  </tbody>\n",
       "</table>\n",
       "<p>5 rows × 31 columns</p>\n",
       "</div>"
      ],
      "text/plain": [
       "            Time        V1        V2        V3        V4        V5        V6  \\\n",
       "183484  125821.0 -0.323334  1.057455 -0.048341 -0.607204  1.259821 -0.091761   \n",
       "255448  157235.0 -0.349718  0.932619  0.142992 -0.657071  1.169784 -0.733369   \n",
       "244749  152471.0 -1.614711 -2.406570  0.326194  0.665520  2.369268 -1.775367   \n",
       "63919    50927.0 -2.477184  0.860613  1.441850  1.051019 -1.856621  2.078384   \n",
       "11475    19899.0  1.338831 -0.547264  0.737389 -0.212383 -1.110039 -0.525744   \n",
       "\n",
       "              V7        V8        V9  ...       V21       V22       V23  \\\n",
       "183484  1.159101 -0.124335 -0.174640  ... -0.207098 -0.433890 -0.261613   \n",
       "255448  1.009985 -0.071069 -0.302083  ... -0.271537 -0.833209 -0.030360   \n",
       "244749 -1.139049  0.329904  0.903813  ...  0.701399  1.134489  0.965054   \n",
       "63919   0.510828 -0.243399 -0.260691  ...  0.810408  0.692245  0.150121   \n",
       "11475  -0.801403 -0.063672  0.997276  ... -0.139436 -0.074719  0.067055   \n",
       "\n",
       "             V24       V25       V26       V27       V28  Amount  \\\n",
       "183484 -0.046651  0.211512  0.008297  0.108494  0.161139   40.00   \n",
       "255448  0.490035 -0.404816  0.134350  0.076830  0.175562    1.98   \n",
       "244749  0.640981 -1.801998 -1.041114  0.286285  0.437322   96.00   \n",
       "63919  -0.260777  0.005183 -0.177847 -0.510060 -0.660533  308.00   \n",
       "11475   0.333122  0.379087 -0.268706 -0.002769  0.003272    5.00   \n",
       "\n",
       "        classificação  \n",
       "183484              0  \n",
       "255448              0  \n",
       "244749              0  \n",
       "63919               0  \n",
       "11475               0  \n",
       "\n",
       "[5 rows x 31 columns]"
      ]
     },
     "execution_count": 20,
     "metadata": {},
     "output_type": "execute_result"
    }
   ],
   "source": [
    "X_test_com_classificação.head()"
   ]
  }
 ],
 "metadata": {
  "kernelspec": {
   "display_name": "Python 3",
   "language": "python",
   "name": "python3"
  },
  "language_info": {
   "codemirror_mode": {
    "name": "ipython",
    "version": 3
   },
   "file_extension": ".py",
   "mimetype": "text/x-python",
   "name": "python",
   "nbconvert_exporter": "python",
   "pygments_lexer": "ipython3",
   "version": "3.7.3"
  }
 },
 "nbformat": 4,
 "nbformat_minor": 4
}
